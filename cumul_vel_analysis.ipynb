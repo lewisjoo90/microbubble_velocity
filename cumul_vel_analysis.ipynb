{
  "nbformat": 4,
  "nbformat_minor": 0,
  "metadata": {
    "kernelspec": {
      "display_name": "Python 3",
      "language": "python",
      "name": "python3"
    },
    "language_info": {
      "codemirror_mode": {
        "name": "ipython",
        "version": 3
      },
      "file_extension": ".py",
      "mimetype": "text/x-python",
      "name": "python",
      "nbconvert_exporter": "python",
      "pygments_lexer": "ipython3",
      "version": "3.7.3"
    },
    "colab": {
      "name": "cumul_vel_analysis.ipynb",
      "provenance": [],
      "include_colab_link": true
    }
  },
  "cells": [
    {
      "cell_type": "markdown",
      "metadata": {
        "id": "view-in-github",
        "colab_type": "text"
      },
      "source": [
        "<a href=\"https://colab.research.google.com/github/lewisjoo90/microbubble_velocity/blob/main/cumul_vel_analysis.ipynb\" target=\"_parent\"><img src=\"https://colab.research.google.com/assets/colab-badge.svg\" alt=\"Open In Colab\"/></a>"
      ]
    },
    {
      "cell_type": "code",
      "metadata": {
        "id": "YLhpXvucc04i"
      },
      "source": [
        "import numpy as np\n",
        "import os\n",
        "import matplotlib.pyplot as plt\n",
        "import pandas as pd\n",
        "from statsmodels.stats.anova import AnovaRM\n",
        "from scipy import stats\n",
        "os.chdir('/home/jis/Documents/velocity_microbubble/Johnson')\n",
        "rat1_bl1 = \"Cohort4_1NM/co2challengebaseline1\"\n",
        "rat1_bl2 = \"Cohort4_1NM/co2challengebaseline2\"\n",
        "rat1_cc1 = \"Cohort4_1NM/co2challenge1\"\n",
        "rat1_cc2 = \"Cohort4_1NM/co2challenge2\"\n",
        "rat1_cc3 = \"Cohort4_1NM/co2challenge3\"\n",
        "rat2_bl1 = \"Cohort4_2M/co2challengebaseline1\"\n",
        "rat2_bl2 = \"Cohort4_2M/co2challengebaseline2\"\n",
        "rat2_cc1 = \"Cohort4_2M/co2challenge1\"\n",
        "rat2_cc2 = \"Cohort4_2M/co2challenge2\"\n",
        "rat2_cc3 = \"Cohort4_2M/co2challenge3\""
      ],
      "execution_count": null,
      "outputs": []
    },
    {
      "cell_type": "code",
      "metadata": {
        "id": "VWSjOwdFc04m"
      },
      "source": [
        "#------- Rat 2 (cohort4_2M)--------------------------------\n",
        "vessel_type_bucket_r2bl1 = np.load(os.path.join(rat2_bl1,'vessel_types_bucket.npy'),allow_pickle=True)\n",
        "vessel_analyzed_bucket_r2bl1 = np.load(os.path.join(rat2_bl1,'vessel_analyzed_flags.npy'),allow_pickle=True)\n",
        "vessel_order_r2bl1 = np.arange(len(vessel_analyzed_bucket_r2bl1))\n",
        "analyzed_vessel_type_r2bl1 = vessel_type_bucket_r2bl1[vessel_analyzed_bucket_r2bl1==1]\n",
        "analyzed_vessel_order_r2bl1 = vessel_order_r2bl1[vessel_analyzed_bucket_r2bl1==1]\n",
        "v_bucket_r2bl1 = np.load(os.path.join(rat2_bl1,'v.npy'),allow_pickle=True)\n",
        "art_vel_r2bl1 = v_bucket_r2bl1[analyzed_vessel_type_r2bl1==\"A\"]\n",
        "art_order_r2bl1 = analyzed_vessel_order_r2bl1[analyzed_vessel_type_r2bl1==\"A\"]\n",
        "ven_vel_r2bl1 = v_bucket_r2bl1[analyzed_vessel_type_r2bl1==\"V\"]\n",
        "ven_order_r2bl1 = analyzed_vessel_order_r2bl1[analyzed_vessel_type_r2bl1==\"V\"]\n",
        "\n",
        "vessel_type_bucket_r2bl2 = np.load(os.path.join(rat2_bl2,'vessel_types_bucket.npy'),allow_pickle=True)\n",
        "vessel_analyzed_bucket_r2bl2 = np.load(os.path.join(rat2_bl2,'vessel_analyzed_flags.npy'),allow_pickle=True)\n",
        "vessel_order_r2bl2 = np.arange(len(vessel_analyzed_bucket_r2bl2))\n",
        "analyzed_vessel_type_r2bl2 = vessel_type_bucket_r2bl2[vessel_analyzed_bucket_r2bl2==1]\n",
        "analyzed_vessel_order_r2bl2 = vessel_order_r2bl2[vessel_analyzed_bucket_r2bl2==1]\n",
        "v_bucket_r2bl2 = np.load(os.path.join(rat2_bl2,'v.npy'),allow_pickle=True)\n",
        "art_vel_r2bl2 = v_bucket_r2bl2[analyzed_vessel_type_r2bl2==\"A\"]\n",
        "art_order_r2bl2 = analyzed_vessel_order_r2bl2[analyzed_vessel_type_r2bl2==\"A\"]\n",
        "ven_vel_r2bl2 = v_bucket_r2bl2[analyzed_vessel_type_r2bl2==\"V\"]\n",
        "ven_order_r2bl2 = analyzed_vessel_order_r2bl2[analyzed_vessel_type_r2bl2==\"V\"]\n",
        "\n",
        "vessel_type_bucket_r2cc1 = np.load(os.path.join(rat2_cc1,'vessel_types_bucket.npy'),allow_pickle=True)\n",
        "vessel_analyzed_bucket_r2cc1 = np.load(os.path.join(rat2_cc1,'vessel_analyzed_flags.npy'),allow_pickle=True)\n",
        "vessel_order_r2cc1 = np.arange(len(vessel_analyzed_bucket_r2cc1))\n",
        "analyzed_vessel_type_r2cc1 = vessel_type_bucket_r2cc1[vessel_analyzed_bucket_r2cc1==1]\n",
        "analyzed_vessel_order_r2cc1 = vessel_order_r2cc1[vessel_analyzed_bucket_r2cc1==1]\n",
        "v_bucket_r2cc1 = np.load(os.path.join(rat2_cc1,'v.npy'),allow_pickle=True)\n",
        "art_vel_r2cc1 = v_bucket_r2cc1[analyzed_vessel_type_r2cc1==\"A\"]\n",
        "art_order_r2cc1 = analyzed_vessel_order_r2cc1[analyzed_vessel_type_r2cc1==\"A\"]\n",
        "ven_vel_r2cc1 = v_bucket_r2cc1[analyzed_vessel_type_r2cc1==\"V\"]\n",
        "ven_order_r2cc1 = analyzed_vessel_order_r2cc1[analyzed_vessel_type_r2cc1==\"V\"]\n",
        "\n",
        "vessel_type_bucket_r2cc2 = np.load(os.path.join(rat2_cc2,'vessel_types_bucket.npy'),allow_pickle=True)\n",
        "vessel_analyzed_bucket_r2cc2 = np.load(os.path.join(rat2_cc2,'vessel_analyzed_flags.npy'),allow_pickle=True)\n",
        "vessel_order_r2cc2 = np.arange(len(vessel_analyzed_bucket_r2cc2))\n",
        "analyzed_vessel_type_r2cc2 = vessel_type_bucket_r2cc2[vessel_analyzed_bucket_r2cc2==1]\n",
        "analyzed_vessel_order_r2cc2 = vessel_order_r2cc2[vessel_analyzed_bucket_r2cc2==1]\n",
        "v_bucket_r2cc2 = np.load(os.path.join(rat2_cc2,'v.npy'),allow_pickle=True)\n",
        "art_vel_r2cc2 = v_bucket_r2cc2[analyzed_vessel_type_r2cc2==\"A\"]\n",
        "art_order_r2cc2 = analyzed_vessel_order_r2cc2[analyzed_vessel_type_r2cc2==\"A\"]\n",
        "ven_vel_r2cc2 = v_bucket_r2cc2[analyzed_vessel_type_r2cc2==\"V\"]\n",
        "ven_order_r2cc2 = analyzed_vessel_order_r2cc2[analyzed_vessel_type_r2cc2==\"V\"]\n",
        "\n",
        "vessel_type_bucket_r2cc3 = np.load(os.path.join(rat2_cc3,'vessel_types_bucket.npy'),allow_pickle=True)\n",
        "vessel_analyzed_bucket_r2cc3 = np.load(os.path.join(rat2_cc3,'vessel_analyzed_flags.npy'),allow_pickle=True)\n",
        "vessel_order_r2cc3 = np.arange(len(vessel_analyzed_bucket_r2cc3))\n",
        "analyzed_vessel_type_r2cc3 = vessel_type_bucket_r2cc3[vessel_analyzed_bucket_r2cc3==1]\n",
        "analyzed_vessel_order_r2cc3 = vessel_order_r2cc3[vessel_analyzed_bucket_r2cc3==1]\n",
        "v_bucket_r2cc3 = np.load(os.path.join(rat2_cc3,'v.npy'),allow_pickle=True)\n",
        "art_vel_r2cc3 = v_bucket_r2cc3[analyzed_vessel_type_r2cc3==\"A\"]\n",
        "art_order_r2cc3 = analyzed_vessel_order_r2cc3[analyzed_vessel_type_r2cc3==\"A\"]\n",
        "ven_vel_r2cc3 = v_bucket_r2cc3[analyzed_vessel_type_r2cc3==\"V\"]\n",
        "ven_order_r2cc3 = analyzed_vessel_order_r2cc3[analyzed_vessel_type_r2cc3==\"V\"]"
      ],
      "execution_count": null,
      "outputs": []
    },
    {
      "cell_type": "code",
      "metadata": {
        "id": "yjX5n6ngc04r"
      },
      "source": [
        "vel_list_dt = []\n",
        "vel_avg_dt = []\n",
        "art_avg_dt = []\n",
        "ven_avg_dt = []\n",
        "idx_r2bl1 = 0\n",
        "idx_r2bl2 = 0\n",
        "idx_r2cc1 = 0\n",
        "idx_r2cc2 = 0\n",
        "idx_r2cc3 = 0\n",
        "for i in range(len(vessel_type_bucket_r2bl1)): # iterate through all vessels analyzed\n",
        "    vel_list = []\n",
        "    vel_avg = []\n",
        "    art_avg = []\n",
        "    ven_avg = []\n",
        "    if (vessel_analyzed_bucket_r2bl1[i]==1) | (vessel_analyzed_bucket_r2bl2[i]==1): # store if baseline vel exists\n",
        "        vel_list.append(vessel_type_bucket_r2bl1[i])\n",
        "        vel_avg.append(vessel_type_bucket_r2bl1[i])\n",
        "    \n",
        "    if vessel_analyzed_bucket_r2bl1[i]==1:\n",
        "        vel_list.append(v_bucket_r2bl1[idx_r2bl1])\n",
        "        vel_avg.append(np.mean(v_bucket_r2bl1[idx_r2bl1]))\n",
        "        if vessel_type_bucket_r2bl1[i]==\"A\":\n",
        "            art_avg.append(np.mean(v_bucket_r2bl1[idx_r2bl1]))\n",
        "        else:\n",
        "            ven_avg.append(np.mean(v_bucket_r2bl1[idx_r2bl1]))\n",
        "        idx_r2bl1 = idx_r2bl1+1\n",
        "    else:\n",
        "        vel_list.append(np.nan)\n",
        "        vel_avg.append(np.nan)\n",
        "        if vessel_type_bucket_r2bl1[i]==\"A\":\n",
        "            art_avg.append(np.nan)\n",
        "        else:\n",
        "            ven_avg.append(np.nan)\n",
        "    if vessel_analyzed_bucket_r2bl2[i]==1:\n",
        "        vel_list.append(v_bucket_r2bl2[idx_r2bl2])\n",
        "        vel_avg.append(np.mean(v_bucket_r2bl2[idx_r2bl2]))\n",
        "        if vessel_type_bucket_r2bl2[i]==\"A\":\n",
        "            art_avg.append(np.mean(v_bucket_r2bl2[idx_r2bl2]))\n",
        "        else:\n",
        "            ven_avg.append(np.mean(v_bucket_r2bl2[idx_r2bl2]))\n",
        "        idx_r2bl2 = idx_r2bl2+1\n",
        "    else:\n",
        "        vel_list.append(np.nan)\n",
        "        vel_avg.append(np.nan)\n",
        "        if vessel_type_bucket_r2bl2[i]==\"A\":\n",
        "            art_avg.append(np.nan)\n",
        "        else:\n",
        "            ven_avg.append(np.nan)\n",
        "    if vessel_analyzed_bucket_r2cc1[i]==1:\n",
        "        vel_list.append(v_bucket_r2cc1[idx_r2cc1])\n",
        "        vel_avg.append(np.mean(v_bucket_r2cc1[idx_r2cc1]))\n",
        "        if vessel_type_bucket_r2cc1[i]==\"A\":\n",
        "            art_avg.append(np.mean(v_bucket_r2cc1[idx_r2cc1]))\n",
        "        else:\n",
        "            ven_avg.append(np.mean(v_bucket_r2cc1[idx_r2cc1]))\n",
        "        idx_r2cc1 = idx_r2cc1+1\n",
        "    else:\n",
        "        vel_list.append(np.nan)\n",
        "        vel_avg.append(np.nan)\n",
        "        if vessel_type_bucket_r2cc1[i]==\"A\":\n",
        "            art_avg.append(np.nan)\n",
        "        else:\n",
        "            ven_avg.append(np.nan)\n",
        "    if vessel_analyzed_bucket_r2cc2[i]==1:\n",
        "        vel_list.append(v_bucket_r2cc2[idx_r2cc2])\n",
        "        vel_avg.append(np.mean(v_bucket_r2cc2[idx_r2cc2]))\n",
        "        if vessel_type_bucket_r2cc2[i]==\"A\":\n",
        "            art_avg.append(np.mean(v_bucket_r2cc2[idx_r2cc2]))\n",
        "        else:\n",
        "            ven_avg.append(np.mean(v_bucket_r2cc2[idx_r2cc2]))\n",
        "        idx_r2cc2 = idx_r2cc2+1\n",
        "    else:\n",
        "        vel_list.append(np.nan)\n",
        "        vel_avg.append(np.nan)\n",
        "        if vessel_type_bucket_r2cc2[i]==\"A\":\n",
        "            art_avg.append(np.nan)\n",
        "        else:\n",
        "            ven_avg.append(np.nan)\n",
        "    if vessel_analyzed_bucket_r2cc3[i]==1:\n",
        "        vel_list.append(v_bucket_r2cc3[idx_r2cc3])\n",
        "        vel_avg.append(np.mean(v_bucket_r2cc3[idx_r2cc3]))\n",
        "        if vessel_type_bucket_r2cc3[i]==\"A\":\n",
        "            art_avg.append(np.mean(v_bucket_r2cc3[idx_r2cc3]))\n",
        "        else:\n",
        "            ven_avg.append(np.mean(v_bucket_r2cc3[idx_r2cc3]))\n",
        "        idx_r2cc3 = idx_r2cc3+1\n",
        "    else:\n",
        "        vel_list.append(np.nan)\n",
        "        vel_avg.append(np.nan)\n",
        "        if vessel_type_bucket_r2cc3[i]==\"A\":\n",
        "            art_avg.append(np.nan)\n",
        "        else:\n",
        "            ven_avg.append(np.nan)\n",
        "    vel_list_dt.append(vel_list)\n",
        "    vel_avg_dt.append(vel_avg)\n",
        "    if len(art_avg)>0:\n",
        "        art_avg_dt.append(art_avg)\n",
        "    if len(ven_avg)>0:\n",
        "        ven_avg_dt.append(ven_avg)"
      ],
      "execution_count": null,
      "outputs": []
    },
    {
      "cell_type": "code",
      "metadata": {
        "id": "ai5G_KVBc04w",
        "outputId": "6dda269c-6081-4c74-c102-003a498ca70d"
      },
      "source": [
        "print(\"1st baseline avg: \",round(np.nanmean([avg[1] for avg in vel_avg_dt]),2),u\"\\u00B1\",round(np.nanstd([avg[1] for avg in vel_avg_dt])/np.sqrt(len([avg[1] for avg in vel_avg_dt])),2),\"mm/s\")\n",
        "print(\"2nd baseline avg: \",round(np.nanmean([avg[2] for avg in vel_avg_dt]),2),u\"\\u00B1\",round(np.nanstd([avg[2] for avg in vel_avg_dt])/np.sqrt(len([avg[2] for avg in vel_avg_dt])),2),\"mm/s\")\n",
        "print(\"1st CO2 Challenge avg: \",round(np.nanmean([avg[3] for avg in vel_avg_dt]),2),u\"\\u00B1\",round(np.nanstd([avg[3] for avg in vel_avg_dt])/np.sqrt(len([avg[3] for avg in vel_avg_dt])),2),\"mm/s\")\n",
        "print(\"2nd CO2 Challenge avg: \",round(np.nanmean([avg[4] for avg in vel_avg_dt]),2),u\"\\u00B1\",round(np.nanstd([avg[4] for avg in vel_avg_dt])/np.sqrt(len([avg[4] for avg in vel_avg_dt])),2),\"mm/s\")\n",
        "print(\"3rd CO2 Challenge avg: \",round(np.nanmean([avg[5] for avg in vel_avg_dt]),2),u\"\\u00B1\",round(np.nanstd([avg[5] for avg in vel_avg_dt])/np.sqrt(len([avg[5] for avg in vel_avg_dt])),2),\"mm/s\")"
      ],
      "execution_count": null,
      "outputs": [
        {
          "output_type": "stream",
          "text": [
            "1st baseline avg:  4.67 ± 0.43 mm/s\n",
            "2nd baseline avg:  4.69 ± 0.34 mm/s\n",
            "1st CO2 Challenge avg:  5.03 ± 0.46 mm/s\n",
            "2nd CO2 Challenge avg:  4.99 ± 0.46 mm/s\n",
            "3rd CO2 Challenge avg:  5.29 ± 0.5 mm/s\n"
          ],
          "name": "stdout"
        }
      ]
    },
    {
      "cell_type": "code",
      "metadata": {
        "id": "1bLMlIzBc042",
        "outputId": "7d35fddc-a3ab-4652-f3f0-be4d47316dda"
      },
      "source": [
        "print(\"Art - 1st baseline avg: \",round(np.nanmean([avg[0] for avg in art_avg_dt]),2),u\"\\u00B1\",round(np.nanstd([avg[0] for avg in art_avg_dt])/np.sqrt(len([avg[0] for avg in art_avg_dt])),2),\"mm/s\")\n",
        "print(\"Art - 2nd baseline avg: \",round(np.nanmean([avg[1] for avg in art_avg_dt]),2),u\"\\u00B1\",round(np.nanstd([avg[1] for avg in art_avg_dt])/np.sqrt(len([avg[1] for avg in art_avg_dt])),2),\"mm/s\")\n",
        "print(\"Art - 1st CO2 Challenge avg: \",round(np.nanmean([avg[2] for avg in art_avg_dt]),2),u\"\\u00B1\",round(np.nanstd([avg[2] for avg in art_avg_dt])/np.sqrt(len([avg[2] for avg in art_avg_dt])),2),\"mm/s\")\n",
        "print(\"Art - 2nd CO2 Challenge avg: \",round(np.nanmean([avg[3] for avg in art_avg_dt]),2),u\"\\u00B1\",round(np.nanstd([avg[3] for avg in art_avg_dt])/np.sqrt(len([avg[3] for avg in art_avg_dt])),2),\"mm/s\")\n",
        "print(\"Art - 3rd CO2 Challenge avg: \",round(np.nanmean([avg[4] for avg in art_avg_dt]),2),u\"\\u00B1\",round(np.nanstd([avg[4] for avg in art_avg_dt])/np.sqrt(len([avg[4] for avg in art_avg_dt])),2),\"mm/s\")"
      ],
      "execution_count": null,
      "outputs": [
        {
          "output_type": "stream",
          "text": [
            "Art - 1st baseline avg:  5.66 ± 1.04 mm/s\n",
            "Art - 2nd baseline avg:  5.21 ± 0.63 mm/s\n",
            "Art - 1st CO2 Challenge avg:  5.7 ± 1.16 mm/s\n",
            "Art - 2nd CO2 Challenge avg:  5.41 ± 0.73 mm/s\n",
            "Art - 3rd CO2 Challenge avg:  6.24 ± 1.32 mm/s\n"
          ],
          "name": "stdout"
        }
      ]
    },
    {
      "cell_type": "code",
      "metadata": {
        "id": "6JogSLCkc046",
        "outputId": "1a9e0993-95ae-4fbb-ebee-c0032a368482"
      },
      "source": [
        "print(\"Ven - 1st baseline avg: \",round(np.nanmean([avg[0] for avg in ven_avg_dt]),2),u\"\\u00B1\",round(np.nanstd([avg[0] for avg in ven_avg_dt])/np.sqrt(len([avg[0] for avg in ven_avg_dt])),2),\"mm/s\")\n",
        "print(\"Ven - 2nd baseline avg: \",round(np.nanmean([avg[1] for avg in ven_avg_dt]),2),u\"\\u00B1\",round(np.nanstd([avg[1] for avg in ven_avg_dt])/np.sqrt(len([avg[1] for avg in ven_avg_dt])),2),\"mm/s\")\n",
        "print(\"Ven - 1st CO2 Challenge avg: \",round(np.nanmean([avg[2] for avg in ven_avg_dt]),2),u\"\\u00B1\",round(np.nanstd([avg[2] for avg in ven_avg_dt])/np.sqrt(len([avg[2] for avg in ven_avg_dt])),2),\"mm/s\")\n",
        "print(\"Ven - 2nd CO2 Challenge avg: \",round(np.nanmean([avg[3] for avg in ven_avg_dt]),2),u\"\\u00B1\",round(np.nanstd([avg[3] for avg in ven_avg_dt])/np.sqrt(len([avg[3] for avg in ven_avg_dt])),2),\"mm/s\")\n",
        "print(\"Ven - 3rd CO2 Challenge avg: \",round(np.nanmean([avg[4] for avg in ven_avg_dt]),2),u\"\\u00B1\",round(np.nanstd([avg[4] for avg in ven_avg_dt])/np.sqrt(len([avg[4] for avg in ven_avg_dt])),2),\"mm/s\")\n"
      ],
      "execution_count": null,
      "outputs": [
        {
          "output_type": "stream",
          "text": [
            "Ven - 1st baseline avg:  4.37 ± 0.42 mm/s\n",
            "Ven - 2nd baseline avg:  4.52 ± 0.39 mm/s\n",
            "Ven - 1st CO2 Challenge avg:  4.81 ± 0.45 mm/s\n",
            "Ven - 2nd CO2 Challenge avg:  4.86 ± 0.55 mm/s\n",
            "Ven - 3rd CO2 Challenge avg:  4.93 ± 0.45 mm/s\n"
          ],
          "name": "stdout"
        }
      ]
    },
    {
      "cell_type": "code",
      "metadata": {
        "id": "c_Sm6XP-c049",
        "outputId": "543985cf-4d29-4b26-fb86-2764b3b081a0"
      },
      "source": [
        "vel_avg_df_rep = pd.DataFrame(vel_avg_dt,columns=['vessel_type','baseline','baseline','co2','co2','co2'])\n",
        "vel_avg_df_rep['vessel_type'] = ['V1','V2','A1','V3','A2','V4','V5','V6','V7','A3','V8','V9','V10']\n",
        "vel_avg_df = pd.DataFrame(vel_avg_dt,columns=['vessel_type','baseline_1','baseline_2','co2_1','co2_2','co2_3'])\n",
        "vel_avg_df['vessel_type'] = ['V1','V2','A1','V3','A2','V4','V5','V6','V7','A3','V8','V9','V10']\n",
        "vel_avg_df_rep_melt = vel_avg_df_rep.melt(id_vars=['vessel_type'],value_vars=['baseline','co2'])\n",
        "print('All vessels',AnovaRM(data=vel_avg_df_rep_melt, depvar='value', subject='vessel_type', within=['variable'],aggregate_func='mean').fit())\n",
        "print('Arterioles',AnovaRM(data=vel_avg_df_rep_melt[vel_avg_df_rep_melt['vessel_type'].str.contains('A')], depvar='value', subject='vessel_type', within=['variable'],aggregate_func='mean').fit())\n",
        "print('Venules',AnovaRM(data=vel_avg_df_rep_melt[vel_avg_df_rep_melt['vessel_type'].str.contains('V')], depvar='value', subject='vessel_type', within=['variable'],aggregate_func='mean').fit())"
      ],
      "execution_count": null,
      "outputs": [
        {
          "output_type": "stream",
          "text": [
            "All vessels                 Anova\n",
            "======================================\n",
            "         F Value Num DF  Den DF Pr > F\n",
            "--------------------------------------\n",
            "variable  9.8209 1.0000 12.0000 0.0086\n",
            "======================================\n",
            "\n",
            "Arterioles                 Anova\n",
            "=====================================\n",
            "         F Value Num DF Den DF Pr > F\n",
            "-------------------------------------\n",
            "variable  1.2013 1.0000 2.0000 0.3874\n",
            "=====================================\n",
            "\n",
            "Venules                 Anova\n",
            "=====================================\n",
            "         F Value Num DF Den DF Pr > F\n",
            "-------------------------------------\n",
            "variable  8.5956 1.0000 9.0000 0.0167\n",
            "=====================================\n",
            "\n"
          ],
          "name": "stdout"
        }
      ]
    },
    {
      "cell_type": "code",
      "metadata": {
        "id": "LCWLLeY-c05A"
      },
      "source": [
        "co2_reac = 100*(np.mean(vel_avg_df_rep.iloc[:,3:6],axis=1) - np.mean(vel_avg_df_rep.iloc[:,1:3],axis=1))/np.mean(vel_avg_df_rep.iloc[:,1:3],axis=1)\n",
        "vel_avg_df_rep['reactivity'] = co2_reac\n",
        "vel_avg_df_rep['hemisphere'] = ['l','l','l','l','l','l','l','r','r','r','r','r','r']\n",
        "print('All vessels: ',stats.mannwhitneyu(vel_avg_df_rep[vel_avg_df_rep['hemisphere']=='l']['reactivity'], vel_avg_df_rep[vel_avg_df_rep['hemisphere']=='r']['reactivity']))\n",
        "print('Arterioles: ',stats.mannwhitneyu(vel_avg_df_rep[(vel_avg_df_rep['hemisphere']=='l')&(vel_avg_df_rep['vessel_type'].str.contains('A'))]['reactivity'], vel_avg_df_rep[(vel_avg_df_rep['hemisphere']=='r')&(vel_avg_df_rep['vessel_type'].str.contains('A'))]['reactivity']))\n",
        "print('Venules: ',stats.mannwhitneyu(vel_avg_df_rep[(vel_avg_df_rep['hemisphere']=='l')&(vel_avg_df_rep['vessel_type'].str.contains('V'))]['reactivity'], vel_avg_df_rep[(vel_avg_df_rep['hemisphere']=='r')&(vel_avg_df_rep['vessel_type'].str.contains('V'))]['reactivity']))"
      ],
      "execution_count": null,
      "outputs": []
    },
    {
      "cell_type": "code",
      "metadata": {
        "id": "LluTaxpjc05D"
      },
      "source": [
        ""
      ],
      "execution_count": null,
      "outputs": []
    }
  ]
}